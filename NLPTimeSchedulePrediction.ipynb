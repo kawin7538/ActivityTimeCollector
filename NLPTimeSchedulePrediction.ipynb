{
  "nbformat": 4,
  "nbformat_minor": 0,
  "metadata": {
    "colab": {
      "name": "NLPTimeSchedulePrediction.ipynb",
      "provenance": [],
      "collapsed_sections": [],
      "toc_visible": true,
      "authorship_tag": "ABX9TyMy7VgBt9x7JfAPsg/EyPbX"
    },
    "kernelspec": {
      "name": "python3",
      "display_name": "Python 3"
    }
  },
  "cells": [
    {
      "cell_type": "code",
      "metadata": {
        "colab": {
          "base_uri": "https://localhost:8080/"
        },
        "id": "OrAG0f2Mfy8-",
        "outputId": "4d3745ea-9531-4d72-e075-5fd85351aa93"
      },
      "source": [
        "!pip install colab-env"
      ],
      "execution_count": 28,
      "outputs": [
        {
          "output_type": "stream",
          "text": [
            "Requirement already satisfied: colab-env in /usr/local/lib/python3.7/dist-packages (0.2.0)\n",
            "Requirement already satisfied: python-dotenv<1.0,>=0.10.0 in /usr/local/lib/python3.7/dist-packages (from colab-env) (0.15.0)\n"
          ],
          "name": "stdout"
        }
      ]
    },
    {
      "cell_type": "code",
      "metadata": {
        "id": "36A8N2Xwf4mV"
      },
      "source": [
        "import colab_env"
      ],
      "execution_count": 29,
      "outputs": []
    },
    {
      "cell_type": "code",
      "metadata": {
        "id": "rftdSCGFgHMH"
      },
      "source": [
        "from sqlalchemy import create_engine\r\n",
        "import pandas as pd \r\n",
        "import numpy as np\r\n",
        "import pickle\r\n",
        "import os"
      ],
      "execution_count": 30,
      "outputs": []
    },
    {
      "cell_type": "code",
      "metadata": {
        "id": "hUoDq_Q7iBlu",
        "colab": {
          "base_uri": "https://localhost:8080/"
        },
        "outputId": "4dfacbe6-c544-4138-a977-eb6a24508f6e"
      },
      "source": [
        "colab_env.RELOAD()"
      ],
      "execution_count": 31,
      "outputs": [
        {
          "output_type": "stream",
          "text": [
            "Drive already mounted at /content/gdrive; to attempt to forcibly remount, call drive.mount(\"/content/gdrive\", force_remount=True).\n"
          ],
          "name": "stdout"
        }
      ]
    },
    {
      "cell_type": "code",
      "metadata": {
        "id": "3EohyaoogmUW",
        "colab": {
          "base_uri": "https://localhost:8080/"
        },
        "outputId": "8bf5c1ab-9f34-4eef-9b5f-aeb1f5a806ea"
      },
      "source": [
        "DATABASE_URL=os.getenv('DATABASE_URL')\r\n",
        "csv_database = create_engine(DATABASE_URL)"
      ],
      "execution_count": 32,
      "outputs": [
        {
          "output_type": "stream",
          "text": [
            "/usr/local/lib/python3.7/dist-packages/psycopg2/__init__.py:144: UserWarning: The psycopg2 wheel package will be renamed from release 2.8; in order to keep installing from binary please use \"pip install psycopg2-binary\" instead. For details see: <http://initd.org/psycopg/docs/install.html#binary-install-from-pypi>.\n",
            "  \"\"\")\n"
          ],
          "name": "stderr"
        }
      ]
    },
    {
      "cell_type": "code",
      "metadata": {
        "colab": {
          "base_uri": "https://localhost:8080/"
        },
        "id": "vUFJAqUghI0c",
        "outputId": "7c54f21a-db67-4543-a892-76dd5618603a"
      },
      "source": [
        "df=pd.read_sql_query('select * from activity',csv_database)\r\n",
        "df.info()"
      ],
      "execution_count": 33,
      "outputs": [
        {
          "output_type": "stream",
          "text": [
            "<class 'pandas.core.frame.DataFrame'>\n",
            "RangeIndex: 54 entries, 0 to 53\n",
            "Data columns (total 3 columns):\n",
            " #   Column         Non-Null Count  Dtype  \n",
            "---  ------         --------------  -----  \n",
            " 0   activity_id    54 non-null     int64  \n",
            " 1   activity_name  54 non-null     object \n",
            " 2   activity_time  54 non-null     float64\n",
            "dtypes: float64(1), int64(1), object(1)\n",
            "memory usage: 1.4+ KB\n"
          ],
          "name": "stdout"
        }
      ]
    },
    {
      "cell_type": "code",
      "metadata": {
        "id": "MTiNMCqohRZt",
        "colab": {
          "base_uri": "https://localhost:8080/"
        },
        "outputId": "3690e19e-515f-4cd4-a0aa-7b7f28b7e2c9"
      },
      "source": [
        "!pip install pythainlp\r\n",
        "!pip install emoji"
      ],
      "execution_count": 34,
      "outputs": [
        {
          "output_type": "stream",
          "text": [
            "Collecting pythainlp\n",
            "\u001b[?25l  Downloading https://files.pythonhosted.org/packages/c1/09/1215cb6f6ef0cfc9dbb427a961fda8a47c111955f782f659ca2d38c79adc/pythainlp-2.2.6-py3-none-any.whl (10.6MB)\n",
            "\u001b[K     |████████████████████████████████| 10.6MB 5.2MB/s \n",
            "\u001b[?25hRequirement already satisfied: requests>=2.22.0 in /usr/local/lib/python3.7/dist-packages (from pythainlp) (2.23.0)\n",
            "Collecting tinydb>=3.0\n",
            "  Downloading https://files.pythonhosted.org/packages/af/cd/1ce3d93818cdeda0446b8033d21e5f32daeb3a866bbafd878a9a62058a9c/tinydb-4.4.0-py3-none-any.whl\n",
            "Collecting python-crfsuite>=0.9.6\n",
            "\u001b[?25l  Downloading https://files.pythonhosted.org/packages/79/47/58f16c46506139f17de4630dbcfb877ce41a6355a1bbf3c443edb9708429/python_crfsuite-0.9.7-cp37-cp37m-manylinux1_x86_64.whl (743kB)\n",
            "\u001b[K     |████████████████████████████████| 747kB 49.0MB/s \n",
            "\u001b[?25hRequirement already satisfied: idna<3,>=2.5 in /usr/local/lib/python3.7/dist-packages (from requests>=2.22.0->pythainlp) (2.10)\n",
            "Requirement already satisfied: chardet<4,>=3.0.2 in /usr/local/lib/python3.7/dist-packages (from requests>=2.22.0->pythainlp) (3.0.4)\n",
            "Requirement already satisfied: urllib3!=1.25.0,!=1.25.1,<1.26,>=1.21.1 in /usr/local/lib/python3.7/dist-packages (from requests>=2.22.0->pythainlp) (1.24.3)\n",
            "Requirement already satisfied: certifi>=2017.4.17 in /usr/local/lib/python3.7/dist-packages (from requests>=2.22.0->pythainlp) (2020.12.5)\n",
            "Installing collected packages: tinydb, python-crfsuite, pythainlp\n",
            "Successfully installed pythainlp-2.2.6 python-crfsuite-0.9.7 tinydb-4.4.0\n",
            "Collecting emoji\n",
            "\u001b[?25l  Downloading https://files.pythonhosted.org/packages/24/fa/b3368f41b95a286f8d300e323449ab4e86b85334c2e0b477e94422b8ed0f/emoji-1.2.0-py3-none-any.whl (131kB)\n",
            "\u001b[K     |████████████████████████████████| 133kB 5.0MB/s \n",
            "\u001b[?25hInstalling collected packages: emoji\n",
            "Successfully installed emoji-1.2.0\n"
          ],
          "name": "stdout"
        }
      ]
    },
    {
      "cell_type": "code",
      "metadata": {
        "id": "L_6fBEGEhvLM",
        "colab": {
          "base_uri": "https://localhost:8080/"
        },
        "outputId": "3cbeb7d7-bbb4-4375-c431-9a08f49a296f"
      },
      "source": [
        "from pythainlp import word_vector,word_tokenize\r\n",
        "from pythainlp.ulmfit import process_thai"
      ],
      "execution_count": 35,
      "outputs": [
        {
          "output_type": "stream",
          "text": [
            "Corpus: thai2fit_wv\n",
            "- Downloading: thai2fit_wv 0.1\n"
          ],
          "name": "stdout"
        },
        {
          "output_type": "stream",
          "text": [
            "100%|██████████| 62452646/62452646 [00:01<00:00, 33530064.81it/s]\n"
          ],
          "name": "stderr"
        },
        {
          "output_type": "stream",
          "text": [
            "Corpus: wiki_lm_lstm\n",
            "- Downloading: wiki_lm_lstm 0.32\n"
          ],
          "name": "stdout"
        },
        {
          "output_type": "stream",
          "text": [
            "100%|██████████| 1050919089/1050919089 [00:29<00:00, 35658343.15it/s]\n"
          ],
          "name": "stderr"
        },
        {
          "output_type": "stream",
          "text": [
            "Corpus: wiki_itos_lstm\n",
            "- Downloading: wiki_itos_lstm 0.32\n"
          ],
          "name": "stdout"
        },
        {
          "output_type": "stream",
          "text": [
            "100%|██████████| 1530484/1530484 [00:00<00:00, 10916237.28it/s]\n"
          ],
          "name": "stderr"
        }
      ]
    },
    {
      "cell_type": "code",
      "metadata": {
        "colab": {
          "base_uri": "https://localhost:8080/",
          "height": 1000
        },
        "id": "-tZAETljjgtU",
        "outputId": "90c8c3d2-06ad-4706-ce41-f40cfbf52a7b"
      },
      "source": [
        "df['processed']=df['activity_name'].map(lambda x: \"|\".join(process_thai(x)))\r\n",
        "df[\"wc\"] = df.processed.map(lambda x: len(x.split(\"|\")))\r\n",
        "df[\"uwc\"] = df.processed.map(lambda x: len(set(x.split(\"|\"))))\r\n",
        "df"
      ],
      "execution_count": 36,
      "outputs": [
        {
          "output_type": "execute_result",
          "data": {
            "text/html": [
              "<div>\n",
              "<style scoped>\n",
              "    .dataframe tbody tr th:only-of-type {\n",
              "        vertical-align: middle;\n",
              "    }\n",
              "\n",
              "    .dataframe tbody tr th {\n",
              "        vertical-align: top;\n",
              "    }\n",
              "\n",
              "    .dataframe thead th {\n",
              "        text-align: right;\n",
              "    }\n",
              "</style>\n",
              "<table border=\"1\" class=\"dataframe\">\n",
              "  <thead>\n",
              "    <tr style=\"text-align: right;\">\n",
              "      <th></th>\n",
              "      <th>activity_id</th>\n",
              "      <th>activity_name</th>\n",
              "      <th>activity_time</th>\n",
              "      <th>processed</th>\n",
              "      <th>wc</th>\n",
              "      <th>uwc</th>\n",
              "    </tr>\n",
              "  </thead>\n",
              "  <tbody>\n",
              "    <tr>\n",
              "      <th>0</th>\n",
              "      <td>2</td>\n",
              "      <td>กินข้าว</td>\n",
              "      <td>45.0</td>\n",
              "      <td>กินข้าว</td>\n",
              "      <td>1</td>\n",
              "      <td>1</td>\n",
              "    </tr>\n",
              "    <tr>\n",
              "      <th>1</th>\n",
              "      <td>3</td>\n",
              "      <td>เกมยิงเรือ</td>\n",
              "      <td>45.0</td>\n",
              "      <td>เกม|ยิง|เรือ</td>\n",
              "      <td>3</td>\n",
              "      <td>3</td>\n",
              "    </tr>\n",
              "    <tr>\n",
              "      <th>2</th>\n",
              "      <td>4</td>\n",
              "      <td>พัก</td>\n",
              "      <td>15.0</td>\n",
              "      <td>พัก</td>\n",
              "      <td>1</td>\n",
              "      <td>1</td>\n",
              "    </tr>\n",
              "    <tr>\n",
              "      <th>3</th>\n",
              "      <td>5</td>\n",
              "      <td>พัก</td>\n",
              "      <td>15.0</td>\n",
              "      <td>พัก</td>\n",
              "      <td>1</td>\n",
              "      <td>1</td>\n",
              "    </tr>\n",
              "    <tr>\n",
              "      <th>4</th>\n",
              "      <td>6</td>\n",
              "      <td>พัก</td>\n",
              "      <td>20.0</td>\n",
              "      <td>พัก</td>\n",
              "      <td>1</td>\n",
              "      <td>1</td>\n",
              "    </tr>\n",
              "    <tr>\n",
              "      <th>5</th>\n",
              "      <td>10</td>\n",
              "      <td>เกมมังกรมังกรทอง</td>\n",
              "      <td>30.0</td>\n",
              "      <td>เกม|xxwrep|มังกร|ทอง</td>\n",
              "      <td>4</td>\n",
              "      <td>4</td>\n",
              "    </tr>\n",
              "    <tr>\n",
              "      <th>6</th>\n",
              "      <td>11</td>\n",
              "      <td>Open Ceremony</td>\n",
              "      <td>15.0</td>\n",
              "      <td>open|ceremony</td>\n",
              "      <td>2</td>\n",
              "      <td>2</td>\n",
              "    </tr>\n",
              "    <tr>\n",
              "      <th>7</th>\n",
              "      <td>12</td>\n",
              "      <td>Testing Ceremony</td>\n",
              "      <td>5.0</td>\n",
              "      <td>testing|ceremony</td>\n",
              "      <td>2</td>\n",
              "      <td>2</td>\n",
              "    </tr>\n",
              "    <tr>\n",
              "      <th>8</th>\n",
              "      <td>13</td>\n",
              "      <td>Closing Ceremony</td>\n",
              "      <td>15.0</td>\n",
              "      <td>closing|ceremony</td>\n",
              "      <td>2</td>\n",
              "      <td>2</td>\n",
              "    </tr>\n",
              "    <tr>\n",
              "      <th>9</th>\n",
              "      <td>14</td>\n",
              "      <td>ออกกำลังกายตอนเช้ามืด</td>\n",
              "      <td>60.0</td>\n",
              "      <td>ออกกำลังกาย|ตอน|เช้ามืด</td>\n",
              "      <td>3</td>\n",
              "      <td>3</td>\n",
              "    </tr>\n",
              "    <tr>\n",
              "      <th>10</th>\n",
              "      <td>15</td>\n",
              "      <td>สวดมนต์ก่อนนอน</td>\n",
              "      <td>15.0</td>\n",
              "      <td>สวดมนต์|ก่อน|นอน</td>\n",
              "      <td>3</td>\n",
              "      <td>3</td>\n",
              "    </tr>\n",
              "    <tr>\n",
              "      <th>11</th>\n",
              "      <td>16</td>\n",
              "      <td>กิจกรรมระดมสมอง</td>\n",
              "      <td>60.0</td>\n",
              "      <td>กิจกรรม|ระดมสมอง</td>\n",
              "      <td>2</td>\n",
              "      <td>2</td>\n",
              "    </tr>\n",
              "    <tr>\n",
              "      <th>12</th>\n",
              "      <td>17</td>\n",
              "      <td>สันทนาการ</td>\n",
              "      <td>20.0</td>\n",
              "      <td>สันทนาการ</td>\n",
              "      <td>1</td>\n",
              "      <td>1</td>\n",
              "    </tr>\n",
              "    <tr>\n",
              "      <th>13</th>\n",
              "      <td>18</td>\n",
              "      <td>พักรับประทานอาหาร</td>\n",
              "      <td>45.0</td>\n",
              "      <td>พัก|รับประทาน|อาหาร</td>\n",
              "      <td>3</td>\n",
              "      <td>3</td>\n",
              "    </tr>\n",
              "    <tr>\n",
              "      <th>14</th>\n",
              "      <td>19</td>\n",
              "      <td>กินข้าวเช้า</td>\n",
              "      <td>90.0</td>\n",
              "      <td>กินข้าว|เช้า</td>\n",
              "      <td>2</td>\n",
              "      <td>2</td>\n",
              "    </tr>\n",
              "    <tr>\n",
              "      <th>15</th>\n",
              "      <td>20</td>\n",
              "      <td>รับประทานอาหารเย็น</td>\n",
              "      <td>60.0</td>\n",
              "      <td>รับประทาน|อาหารเย็น</td>\n",
              "      <td>2</td>\n",
              "      <td>2</td>\n",
              "    </tr>\n",
              "    <tr>\n",
              "      <th>16</th>\n",
              "      <td>21</td>\n",
              "      <td>ทานอาหาร</td>\n",
              "      <td>45.0</td>\n",
              "      <td>ทานอาหาร</td>\n",
              "      <td>1</td>\n",
              "      <td>1</td>\n",
              "    </tr>\n",
              "    <tr>\n",
              "      <th>17</th>\n",
              "      <td>22</td>\n",
              "      <td>งานเลี้ยงสังสรรค์</td>\n",
              "      <td>240.0</td>\n",
              "      <td>งานเลี้ยง|สังสรรค์</td>\n",
              "      <td>2</td>\n",
              "      <td>2</td>\n",
              "    </tr>\n",
              "    <tr>\n",
              "      <th>18</th>\n",
              "      <td>23</td>\n",
              "      <td>เกมไปรษณีย์</td>\n",
              "      <td>5.0</td>\n",
              "      <td>เกม|ไปรษณีย์</td>\n",
              "      <td>2</td>\n",
              "      <td>2</td>\n",
              "    </tr>\n",
              "    <tr>\n",
              "      <th>19</th>\n",
              "      <td>24</td>\n",
              "      <td>เกมไปรษณีย์</td>\n",
              "      <td>10.0</td>\n",
              "      <td>เกม|ไปรษณีย์</td>\n",
              "      <td>2</td>\n",
              "      <td>2</td>\n",
              "    </tr>\n",
              "    <tr>\n",
              "      <th>20</th>\n",
              "      <td>25</td>\n",
              "      <td>สวัสดีครับ ผมชื่อ...</td>\n",
              "      <td>10.0</td>\n",
              "      <td>สวัสดี|ครับ|ผม|ชื่อ|...</td>\n",
              "      <td>5</td>\n",
              "      <td>5</td>\n",
              "    </tr>\n",
              "    <tr>\n",
              "      <th>21</th>\n",
              "      <td>26</td>\n",
              "      <td>สวัสดีครับ ผมชื่อ...</td>\n",
              "      <td>15.0</td>\n",
              "      <td>สวัสดี|ครับ|ผม|ชื่อ|...</td>\n",
              "      <td>5</td>\n",
              "      <td>5</td>\n",
              "    </tr>\n",
              "    <tr>\n",
              "      <th>22</th>\n",
              "      <td>27</td>\n",
              "      <td>เกมหนังสือพิมพ์</td>\n",
              "      <td>20.0</td>\n",
              "      <td>เกม|หนังสือพิมพ์</td>\n",
              "      <td>2</td>\n",
              "      <td>2</td>\n",
              "    </tr>\n",
              "    <tr>\n",
              "      <th>23</th>\n",
              "      <td>28</td>\n",
              "      <td>เกมของแทนตัว</td>\n",
              "      <td>5.0</td>\n",
              "      <td>เกม|ของ|แทน|ตัว</td>\n",
              "      <td>4</td>\n",
              "      <td>4</td>\n",
              "    </tr>\n",
              "    <tr>\n",
              "      <th>24</th>\n",
              "      <td>29</td>\n",
              "      <td>เกมของแทนตัว</td>\n",
              "      <td>10.0</td>\n",
              "      <td>เกม|ของ|แทน|ตัว</td>\n",
              "      <td>4</td>\n",
              "      <td>4</td>\n",
              "    </tr>\n",
              "    <tr>\n",
              "      <th>25</th>\n",
              "      <td>30</td>\n",
              "      <td>เกมลูกโป่ง</td>\n",
              "      <td>20.0</td>\n",
              "      <td>เกม|ลูกโป่ง</td>\n",
              "      <td>2</td>\n",
              "      <td>2</td>\n",
              "    </tr>\n",
              "    <tr>\n",
              "      <th>26</th>\n",
              "      <td>31</td>\n",
              "      <td>เกมผ้าห่มซ่อนตัว</td>\n",
              "      <td>20.0</td>\n",
              "      <td>เกม|ผ้าห่ม|ซ่อนตัว</td>\n",
              "      <td>3</td>\n",
              "      <td>3</td>\n",
              "    </tr>\n",
              "    <tr>\n",
              "      <th>27</th>\n",
              "      <td>32</td>\n",
              "      <td>เกมฉลากตัวเอง</td>\n",
              "      <td>15.0</td>\n",
              "      <td>เกม|ฉลาก|ตัวเอง</td>\n",
              "      <td>3</td>\n",
              "      <td>3</td>\n",
              "    </tr>\n",
              "    <tr>\n",
              "      <th>28</th>\n",
              "      <td>33</td>\n",
              "      <td>เกมฉลากตัวเอง</td>\n",
              "      <td>20.0</td>\n",
              "      <td>เกม|ฉลาก|ตัวเอง</td>\n",
              "      <td>3</td>\n",
              "      <td>3</td>\n",
              "    </tr>\n",
              "    <tr>\n",
              "      <th>29</th>\n",
              "      <td>34</td>\n",
              "      <td>เกมเก้าอี้เรียกชื่อ</td>\n",
              "      <td>20.0</td>\n",
              "      <td>เกม|เก้าอี้|เรียกชื่อ</td>\n",
              "      <td>3</td>\n",
              "      <td>3</td>\n",
              "    </tr>\n",
              "    <tr>\n",
              "      <th>30</th>\n",
              "      <td>35</td>\n",
              "      <td>เกมตามล่าหาชื่อ</td>\n",
              "      <td>10.0</td>\n",
              "      <td>เกม|ตามล่า|หา|ชื่อ</td>\n",
              "      <td>4</td>\n",
              "      <td>4</td>\n",
              "    </tr>\n",
              "    <tr>\n",
              "      <th>31</th>\n",
              "      <td>36</td>\n",
              "      <td>เกมแลกป้ายชื่อ</td>\n",
              "      <td>15.0</td>\n",
              "      <td>เกม|แลก|ป้ายชื่อ</td>\n",
              "      <td>3</td>\n",
              "      <td>3</td>\n",
              "    </tr>\n",
              "    <tr>\n",
              "      <th>32</th>\n",
              "      <td>37</td>\n",
              "      <td>เกมแลกป้ายชื่อ</td>\n",
              "      <td>20.0</td>\n",
              "      <td>เกม|แลก|ป้ายชื่อ</td>\n",
              "      <td>3</td>\n",
              "      <td>3</td>\n",
              "    </tr>\n",
              "    <tr>\n",
              "      <th>33</th>\n",
              "      <td>38</td>\n",
              "      <td>ปรบมือ 2 ครั้ง แนะนำตัว</td>\n",
              "      <td>10.0</td>\n",
              "      <td>ปรบมือ|2|ครั้ง|แนะนำตัว</td>\n",
              "      <td>4</td>\n",
              "      <td>4</td>\n",
              "    </tr>\n",
              "    <tr>\n",
              "      <th>34</th>\n",
              "      <td>39</td>\n",
              "      <td>ประมือ 2 ครั้ง แนะนำตัว</td>\n",
              "      <td>20.0</td>\n",
              "      <td>ประมือ|2|ครั้ง|แนะนำตัว</td>\n",
              "      <td>4</td>\n",
              "      <td>4</td>\n",
              "    </tr>\n",
              "    <tr>\n",
              "      <th>35</th>\n",
              "      <td>40</td>\n",
              "      <td>แนะนำตัวพร้อมของฝาก</td>\n",
              "      <td>20.0</td>\n",
              "      <td>แนะนำตัว|พร้อม|ของฝาก</td>\n",
              "      <td>3</td>\n",
              "      <td>3</td>\n",
              "    </tr>\n",
              "    <tr>\n",
              "      <th>36</th>\n",
              "      <td>41</td>\n",
              "      <td>แนะนำตัวพร้อมของฝาก</td>\n",
              "      <td>30.0</td>\n",
              "      <td>แนะนำตัว|พร้อม|ของฝาก</td>\n",
              "      <td>3</td>\n",
              "      <td>3</td>\n",
              "    </tr>\n",
              "    <tr>\n",
              "      <th>37</th>\n",
              "      <td>42</td>\n",
              "      <td>เกม ของฉันหาย</td>\n",
              "      <td>10.0</td>\n",
              "      <td>เกม|ของ|ฉัน|หาย</td>\n",
              "      <td>4</td>\n",
              "      <td>4</td>\n",
              "    </tr>\n",
              "    <tr>\n",
              "      <th>38</th>\n",
              "      <td>43</td>\n",
              "      <td>เกม ของฉันหาย</td>\n",
              "      <td>15.0</td>\n",
              "      <td>เกม|ของ|ฉัน|หาย</td>\n",
              "      <td>4</td>\n",
              "      <td>4</td>\n",
              "    </tr>\n",
              "    <tr>\n",
              "      <th>39</th>\n",
              "      <td>44</td>\n",
              "      <td>เกมรำวง</td>\n",
              "      <td>15.0</td>\n",
              "      <td>เกม|รำวง</td>\n",
              "      <td>2</td>\n",
              "      <td>2</td>\n",
              "    </tr>\n",
              "    <tr>\n",
              "      <th>40</th>\n",
              "      <td>45</td>\n",
              "      <td>เกมรำวง</td>\n",
              "      <td>20.0</td>\n",
              "      <td>เกม|รำวง</td>\n",
              "      <td>2</td>\n",
              "      <td>2</td>\n",
              "    </tr>\n",
              "    <tr>\n",
              "      <th>41</th>\n",
              "      <td>46</td>\n",
              "      <td>เกม บอกรัก</td>\n",
              "      <td>10.0</td>\n",
              "      <td>เกม|บอ|กรัก</td>\n",
              "      <td>3</td>\n",
              "      <td>3</td>\n",
              "    </tr>\n",
              "    <tr>\n",
              "      <th>42</th>\n",
              "      <td>47</td>\n",
              "      <td>โป๊ะแตก</td>\n",
              "      <td>20.0</td>\n",
              "      <td>โป๊ะแตก</td>\n",
              "      <td>1</td>\n",
              "      <td>1</td>\n",
              "    </tr>\n",
              "    <tr>\n",
              "      <th>43</th>\n",
              "      <td>48</td>\n",
              "      <td>โป๊ะแตก</td>\n",
              "      <td>30.0</td>\n",
              "      <td>โป๊ะแตก</td>\n",
              "      <td>1</td>\n",
              "      <td>1</td>\n",
              "    </tr>\n",
              "    <tr>\n",
              "      <th>44</th>\n",
              "      <td>49</td>\n",
              "      <td>เกม จัดลำดับอวัยวะ</td>\n",
              "      <td>10.0</td>\n",
              "      <td>เกม|จัดลำดับ|อวัยวะ</td>\n",
              "      <td>3</td>\n",
              "      <td>3</td>\n",
              "    </tr>\n",
              "    <tr>\n",
              "      <th>45</th>\n",
              "      <td>50</td>\n",
              "      <td>เกม จัดลำดับอวัยวะ</td>\n",
              "      <td>15.0</td>\n",
              "      <td>เกม|จัดลำดับ|อวัยวะ</td>\n",
              "      <td>3</td>\n",
              "      <td>3</td>\n",
              "    </tr>\n",
              "    <tr>\n",
              "      <th>46</th>\n",
              "      <td>51</td>\n",
              "      <td>เกมบัดดี้</td>\n",
              "      <td>10.0</td>\n",
              "      <td>เกม|บัด|ดี้</td>\n",
              "      <td>3</td>\n",
              "      <td>3</td>\n",
              "    </tr>\n",
              "    <tr>\n",
              "      <th>47</th>\n",
              "      <td>52</td>\n",
              "      <td>เกมยิงเรือ</td>\n",
              "      <td>20.0</td>\n",
              "      <td>เกม|ยิง|เรือ</td>\n",
              "      <td>3</td>\n",
              "      <td>3</td>\n",
              "    </tr>\n",
              "    <tr>\n",
              "      <th>48</th>\n",
              "      <td>53</td>\n",
              "      <td>เกมยิงเรือ</td>\n",
              "      <td>30.0</td>\n",
              "      <td>เกม|ยิง|เรือ</td>\n",
              "      <td>3</td>\n",
              "      <td>3</td>\n",
              "    </tr>\n",
              "    <tr>\n",
              "      <th>49</th>\n",
              "      <td>54</td>\n",
              "      <td>แข่งทำอาหาร</td>\n",
              "      <td>90.0</td>\n",
              "      <td>แข่ง|ทำอาหาร</td>\n",
              "      <td>2</td>\n",
              "      <td>2</td>\n",
              "    </tr>\n",
              "    <tr>\n",
              "      <th>50</th>\n",
              "      <td>55</td>\n",
              "      <td>อาบน้ำ</td>\n",
              "      <td>30.0</td>\n",
              "      <td>อาบน้ำ</td>\n",
              "      <td>1</td>\n",
              "      <td>1</td>\n",
              "    </tr>\n",
              "    <tr>\n",
              "      <th>51</th>\n",
              "      <td>56</td>\n",
              "      <td>อาบน้ำ</td>\n",
              "      <td>45.0</td>\n",
              "      <td>อาบน้ำ</td>\n",
              "      <td>1</td>\n",
              "      <td>1</td>\n",
              "    </tr>\n",
              "    <tr>\n",
              "      <th>52</th>\n",
              "      <td>57</td>\n",
              "      <td>อาบน้ำและกินข้าว</td>\n",
              "      <td>60.0</td>\n",
              "      <td>อาบน้ำ|และ|กินข้าว</td>\n",
              "      <td>3</td>\n",
              "      <td>3</td>\n",
              "    </tr>\n",
              "    <tr>\n",
              "      <th>53</th>\n",
              "      <td>58</td>\n",
              "      <td>กินข้าวและอาบน้ำ</td>\n",
              "      <td>75.0</td>\n",
              "      <td>กินข้าว|และ|อาบน้ำ</td>\n",
              "      <td>3</td>\n",
              "      <td>3</td>\n",
              "    </tr>\n",
              "  </tbody>\n",
              "</table>\n",
              "</div>"
            ],
            "text/plain": [
              "    activity_id            activity_name  ...  wc uwc\n",
              "0             2                  กินข้าว  ...   1   1\n",
              "1             3               เกมยิงเรือ  ...   3   3\n",
              "2             4                      พัก  ...   1   1\n",
              "3             5                      พัก  ...   1   1\n",
              "4             6                      พัก  ...   1   1\n",
              "5            10         เกมมังกรมังกรทอง  ...   4   4\n",
              "6            11            Open Ceremony  ...   2   2\n",
              "7            12         Testing Ceremony  ...   2   2\n",
              "8            13         Closing Ceremony  ...   2   2\n",
              "9            14    ออกกำลังกายตอนเช้ามืด  ...   3   3\n",
              "10           15           สวดมนต์ก่อนนอน  ...   3   3\n",
              "11           16          กิจกรรมระดมสมอง  ...   2   2\n",
              "12           17                สันทนาการ  ...   1   1\n",
              "13           18        พักรับประทานอาหาร  ...   3   3\n",
              "14           19              กินข้าวเช้า  ...   2   2\n",
              "15           20       รับประทานอาหารเย็น  ...   2   2\n",
              "16           21                 ทานอาหาร  ...   1   1\n",
              "17           22        งานเลี้ยงสังสรรค์  ...   2   2\n",
              "18           23              เกมไปรษณีย์  ...   2   2\n",
              "19           24              เกมไปรษณีย์  ...   2   2\n",
              "20           25     สวัสดีครับ ผมชื่อ...  ...   5   5\n",
              "21           26     สวัสดีครับ ผมชื่อ...  ...   5   5\n",
              "22           27          เกมหนังสือพิมพ์  ...   2   2\n",
              "23           28             เกมของแทนตัว  ...   4   4\n",
              "24           29             เกมของแทนตัว  ...   4   4\n",
              "25           30               เกมลูกโป่ง  ...   2   2\n",
              "26           31         เกมผ้าห่มซ่อนตัว  ...   3   3\n",
              "27           32            เกมฉลากตัวเอง  ...   3   3\n",
              "28           33            เกมฉลากตัวเอง  ...   3   3\n",
              "29           34      เกมเก้าอี้เรียกชื่อ  ...   3   3\n",
              "30           35          เกมตามล่าหาชื่อ  ...   4   4\n",
              "31           36           เกมแลกป้ายชื่อ  ...   3   3\n",
              "32           37           เกมแลกป้ายชื่อ  ...   3   3\n",
              "33           38  ปรบมือ 2 ครั้ง แนะนำตัว  ...   4   4\n",
              "34           39  ประมือ 2 ครั้ง แนะนำตัว  ...   4   4\n",
              "35           40      แนะนำตัวพร้อมของฝาก  ...   3   3\n",
              "36           41      แนะนำตัวพร้อมของฝาก  ...   3   3\n",
              "37           42            เกม ของฉันหาย  ...   4   4\n",
              "38           43            เกม ของฉันหาย  ...   4   4\n",
              "39           44                  เกมรำวง  ...   2   2\n",
              "40           45                  เกมรำวง  ...   2   2\n",
              "41           46               เกม บอกรัก  ...   3   3\n",
              "42           47                  โป๊ะแตก  ...   1   1\n",
              "43           48                  โป๊ะแตก  ...   1   1\n",
              "44           49       เกม จัดลำดับอวัยวะ  ...   3   3\n",
              "45           50       เกม จัดลำดับอวัยวะ  ...   3   3\n",
              "46           51                เกมบัดดี้  ...   3   3\n",
              "47           52               เกมยิงเรือ  ...   3   3\n",
              "48           53               เกมยิงเรือ  ...   3   3\n",
              "49           54              แข่งทำอาหาร  ...   2   2\n",
              "50           55                   อาบน้ำ  ...   1   1\n",
              "51           56                   อาบน้ำ  ...   1   1\n",
              "52           57         อาบน้ำและกินข้าว  ...   3   3\n",
              "53           58         กินข้าวและอาบน้ำ  ...   3   3\n",
              "\n",
              "[54 rows x 6 columns]"
            ]
          },
          "metadata": {
            "tags": []
          },
          "execution_count": 36
        }
      ]
    },
    {
      "cell_type": "code",
      "metadata": {
        "colab": {
          "base_uri": "https://localhost:8080/"
        },
        "id": "EjZxq3fckCFb",
        "outputId": "e24f5e62-a326-4788-af8b-75b9cec627f5"
      },
      "source": [
        "from sklearn.feature_extraction.text import TfidfVectorizer\r\n",
        "from sklearn.linear_model import LinearRegression\r\n",
        "\r\n",
        "tfidf = TfidfVectorizer(tokenizer=process_thai, ngram_range=(1,3), sublinear_tf=True)\r\n",
        "tfidf_fit=tfidf.fit(df['activity_name'])\r\n",
        "text_train=tfidf_fit.transform(df['activity_name'])"
      ],
      "execution_count": 37,
      "outputs": [
        {
          "output_type": "stream",
          "text": [
            "/usr/local/lib/python3.7/dist-packages/sklearn/feature_extraction/text.py:507: UserWarning: The parameter 'token_pattern' will not be used since 'tokenizer' is not None'\n",
            "  warnings.warn(\"The parameter 'token_pattern' will not be used\"\n"
          ],
          "name": "stderr"
        }
      ]
    },
    {
      "cell_type": "code",
      "metadata": {
        "colab": {
          "base_uri": "https://localhost:8080/"
        },
        "id": "jDKyOFeekuD7",
        "outputId": "4943f958-bb7e-4b55-e1de-83c3c975281e"
      },
      "source": [
        "text_train"
      ],
      "execution_count": 38,
      "outputs": [
        {
          "output_type": "execute_result",
          "data": {
            "text/plain": [
              "<54x157 sparse matrix of type '<class 'numpy.float64'>'\n",
              "\twith 268 stored elements in Compressed Sparse Row format>"
            ]
          },
          "metadata": {
            "tags": []
          },
          "execution_count": 38
        }
      ]
    },
    {
      "cell_type": "code",
      "metadata": {
        "colab": {
          "base_uri": "https://localhost:8080/"
        },
        "id": "xvNFPRY08r67",
        "outputId": "de3ff777-850b-4b9c-b7e2-3a1c3cec17a6"
      },
      "source": [
        "tfidf.get_feature_names()"
      ],
      "execution_count": 39,
      "outputs": [
        {
          "output_type": "execute_result",
          "data": {
            "text/plain": [
              "['...',\n",
              " '2',\n",
              " '2 ครั้ง',\n",
              " '2 ครั้ง แนะนำตัว',\n",
              " 'ceremony',\n",
              " 'closing',\n",
              " 'closing ceremony',\n",
              " 'open',\n",
              " 'open ceremony',\n",
              " 'testing',\n",
              " 'testing ceremony',\n",
              " 'xxwrep',\n",
              " 'xxwrep มังกร',\n",
              " 'xxwrep มังกร ทอง',\n",
              " 'กรัก',\n",
              " 'กิจกรรม',\n",
              " 'กิจกรรม ระดมสมอง',\n",
              " 'กินข้าว',\n",
              " 'กินข้าว เช้า',\n",
              " 'กินข้าว และ',\n",
              " 'กินข้าว และ อาบน้ำ',\n",
              " 'ก่อน',\n",
              " 'ก่อน นอน',\n",
              " 'ของ',\n",
              " 'ของ ฉัน',\n",
              " 'ของ ฉัน หาย',\n",
              " 'ของ แทน',\n",
              " 'ของ แทน ตัว',\n",
              " 'ของฝาก',\n",
              " 'ครับ',\n",
              " 'ครับ ผม',\n",
              " 'ครับ ผม ชื่อ',\n",
              " 'ครั้ง',\n",
              " 'ครั้ง แนะนำตัว',\n",
              " 'งานเลี้ยง',\n",
              " 'งานเลี้ยง สังสรรค์',\n",
              " 'จัดลำดับ',\n",
              " 'จัดลำดับ อวัยวะ',\n",
              " 'ฉลาก',\n",
              " 'ฉลาก ตัวเอง',\n",
              " 'ฉัน',\n",
              " 'ฉัน หาย',\n",
              " 'ชื่อ',\n",
              " 'ชื่อ ...',\n",
              " 'ซ่อนตัว',\n",
              " 'ดี้',\n",
              " 'ตอน',\n",
              " 'ตอน เช้ามืด',\n",
              " 'ตัว',\n",
              " 'ตัวเอง',\n",
              " 'ตามล่า',\n",
              " 'ตามล่า หา',\n",
              " 'ตามล่า หา ชื่อ',\n",
              " 'ทอง',\n",
              " 'ทานอาหาร',\n",
              " 'ทำอาหาร',\n",
              " 'นอน',\n",
              " 'บอ',\n",
              " 'บอ กรัก',\n",
              " 'บัด',\n",
              " 'บัด ดี้',\n",
              " 'ปรบมือ',\n",
              " 'ปรบมือ 2',\n",
              " 'ปรบมือ 2 ครั้ง',\n",
              " 'ประมือ',\n",
              " 'ประมือ 2',\n",
              " 'ประมือ 2 ครั้ง',\n",
              " 'ป้ายชื่อ',\n",
              " 'ผม',\n",
              " 'ผม ชื่อ',\n",
              " 'ผม ชื่อ ...',\n",
              " 'ผ้าห่ม',\n",
              " 'ผ้าห่ม ซ่อนตัว',\n",
              " 'พร้อม',\n",
              " 'พร้อม ของฝาก',\n",
              " 'พัก',\n",
              " 'พัก รับประทาน',\n",
              " 'พัก รับประทาน อาหาร',\n",
              " 'มังกร',\n",
              " 'มังกร ทอง',\n",
              " 'ยิง',\n",
              " 'ยิง เรือ',\n",
              " 'ระดมสมอง',\n",
              " 'รับประทาน',\n",
              " 'รับประทาน อาหาร',\n",
              " 'รับประทาน อาหารเย็น',\n",
              " 'รำวง',\n",
              " 'ลูกโป่ง',\n",
              " 'สวดมนต์',\n",
              " 'สวดมนต์ ก่อน',\n",
              " 'สวดมนต์ ก่อน นอน',\n",
              " 'สวัสดี',\n",
              " 'สวัสดี ครับ',\n",
              " 'สวัสดี ครับ ผม',\n",
              " 'สังสรรค์',\n",
              " 'สันทนาการ',\n",
              " 'หนังสือพิมพ์',\n",
              " 'หา',\n",
              " 'หา ชื่อ',\n",
              " 'หาย',\n",
              " 'อวัยวะ',\n",
              " 'ออกกำลังกาย',\n",
              " 'ออกกำลังกาย ตอน',\n",
              " 'ออกกำลังกาย ตอน เช้ามืด',\n",
              " 'อาบน้ำ',\n",
              " 'อาบน้ำ และ',\n",
              " 'อาบน้ำ และ กินข้าว',\n",
              " 'อาหาร',\n",
              " 'อาหารเย็น',\n",
              " 'เกม',\n",
              " 'เกม xxwrep',\n",
              " 'เกม xxwrep มังกร',\n",
              " 'เกม ของ',\n",
              " 'เกม ของ ฉัน',\n",
              " 'เกม ของ แทน',\n",
              " 'เกม จัดลำดับ',\n",
              " 'เกม จัดลำดับ อวัยวะ',\n",
              " 'เกม ฉลาก',\n",
              " 'เกม ฉลาก ตัวเอง',\n",
              " 'เกม ตามล่า',\n",
              " 'เกม ตามล่า หา',\n",
              " 'เกม บอ',\n",
              " 'เกม บอ กรัก',\n",
              " 'เกม บัด',\n",
              " 'เกม บัด ดี้',\n",
              " 'เกม ผ้าห่ม',\n",
              " 'เกม ผ้าห่ม ซ่อนตัว',\n",
              " 'เกม ยิง',\n",
              " 'เกม ยิง เรือ',\n",
              " 'เกม รำวง',\n",
              " 'เกม ลูกโป่ง',\n",
              " 'เกม หนังสือพิมพ์',\n",
              " 'เกม เก้าอี้',\n",
              " 'เกม เก้าอี้ เรียกชื่อ',\n",
              " 'เกม แลก',\n",
              " 'เกม แลก ป้ายชื่อ',\n",
              " 'เกม ไปรษณีย์',\n",
              " 'เก้าอี้',\n",
              " 'เก้าอี้ เรียกชื่อ',\n",
              " 'เช้า',\n",
              " 'เช้ามืด',\n",
              " 'เรียกชื่อ',\n",
              " 'เรือ',\n",
              " 'แข่ง',\n",
              " 'แข่ง ทำอาหาร',\n",
              " 'แทน',\n",
              " 'แทน ตัว',\n",
              " 'แนะนำตัว',\n",
              " 'แนะนำตัว พร้อม',\n",
              " 'แนะนำตัว พร้อม ของฝาก',\n",
              " 'แลก',\n",
              " 'แลก ป้ายชื่อ',\n",
              " 'และ',\n",
              " 'และ กินข้าว',\n",
              " 'และ อาบน้ำ',\n",
              " 'โป๊ะแตก',\n",
              " 'ไปรษณีย์']"
            ]
          },
          "metadata": {
            "tags": []
          },
          "execution_count": 39
        }
      ]
    },
    {
      "cell_type": "code",
      "metadata": {
        "id": "TNJF8EVZlSlj"
      },
      "source": [
        "from sklearn.preprocessing import StandardScaler\r\n",
        "\r\n",
        "scaler = StandardScaler()\r\n",
        "scaler_fit = scaler.fit(df[[\"wc\",\"uwc\"]].astype(float))\r\n",
        "num_train = scaler_fit.transform(df[['wc','uwc']])"
      ],
      "execution_count": 40,
      "outputs": []
    },
    {
      "cell_type": "code",
      "metadata": {
        "colab": {
          "base_uri": "https://localhost:8080/"
        },
        "id": "7XCXI-ZdmA3K",
        "outputId": "492867bb-409c-41c8-c6e0-da364d3d19c5"
      },
      "source": [
        "num_train"
      ],
      "execution_count": 41,
      "outputs": [
        {
          "output_type": "execute_result",
          "data": {
            "text/plain": [
              "array([[-1.49797598, -1.49797598],\n",
              "       [ 0.38320316,  0.38320316],\n",
              "       [-1.49797598, -1.49797598],\n",
              "       [-1.49797598, -1.49797598],\n",
              "       [-1.49797598, -1.49797598],\n",
              "       [ 1.32379273,  1.32379273],\n",
              "       [-0.55738641, -0.55738641],\n",
              "       [-0.55738641, -0.55738641],\n",
              "       [-0.55738641, -0.55738641],\n",
              "       [ 0.38320316,  0.38320316],\n",
              "       [ 0.38320316,  0.38320316],\n",
              "       [-0.55738641, -0.55738641],\n",
              "       [-1.49797598, -1.49797598],\n",
              "       [ 0.38320316,  0.38320316],\n",
              "       [-0.55738641, -0.55738641],\n",
              "       [-0.55738641, -0.55738641],\n",
              "       [-1.49797598, -1.49797598],\n",
              "       [-0.55738641, -0.55738641],\n",
              "       [-0.55738641, -0.55738641],\n",
              "       [-0.55738641, -0.55738641],\n",
              "       [ 2.2643823 ,  2.2643823 ],\n",
              "       [ 2.2643823 ,  2.2643823 ],\n",
              "       [-0.55738641, -0.55738641],\n",
              "       [ 1.32379273,  1.32379273],\n",
              "       [ 1.32379273,  1.32379273],\n",
              "       [-0.55738641, -0.55738641],\n",
              "       [ 0.38320316,  0.38320316],\n",
              "       [ 0.38320316,  0.38320316],\n",
              "       [ 0.38320316,  0.38320316],\n",
              "       [ 0.38320316,  0.38320316],\n",
              "       [ 1.32379273,  1.32379273],\n",
              "       [ 0.38320316,  0.38320316],\n",
              "       [ 0.38320316,  0.38320316],\n",
              "       [ 1.32379273,  1.32379273],\n",
              "       [ 1.32379273,  1.32379273],\n",
              "       [ 0.38320316,  0.38320316],\n",
              "       [ 0.38320316,  0.38320316],\n",
              "       [ 1.32379273,  1.32379273],\n",
              "       [ 1.32379273,  1.32379273],\n",
              "       [-0.55738641, -0.55738641],\n",
              "       [-0.55738641, -0.55738641],\n",
              "       [ 0.38320316,  0.38320316],\n",
              "       [-1.49797598, -1.49797598],\n",
              "       [-1.49797598, -1.49797598],\n",
              "       [ 0.38320316,  0.38320316],\n",
              "       [ 0.38320316,  0.38320316],\n",
              "       [ 0.38320316,  0.38320316],\n",
              "       [ 0.38320316,  0.38320316],\n",
              "       [ 0.38320316,  0.38320316],\n",
              "       [-0.55738641, -0.55738641],\n",
              "       [-1.49797598, -1.49797598],\n",
              "       [-1.49797598, -1.49797598],\n",
              "       [ 0.38320316,  0.38320316],\n",
              "       [ 0.38320316,  0.38320316]])"
            ]
          },
          "metadata": {
            "tags": []
          },
          "execution_count": 41
        }
      ]
    },
    {
      "cell_type": "code",
      "metadata": {
        "id": "rEO3h-mJmCRS"
      },
      "source": [
        "X_train = np.concatenate([num_train,text_train.toarray()],axis=1)\r\n",
        "Y_train = df['activity_time']"
      ],
      "execution_count": 42,
      "outputs": []
    },
    {
      "cell_type": "code",
      "metadata": {
        "colab": {
          "base_uri": "https://localhost:8080/"
        },
        "id": "_0Ulx9f0mGcC",
        "outputId": "201da177-ba6b-4d7f-91ca-dafa21dff549"
      },
      "source": [
        "from sklearn.linear_model import LinearRegression\r\n",
        "\r\n",
        "clf=LinearRegression()\r\n",
        "clf.fit(X_train,Y_train)"
      ],
      "execution_count": 43,
      "outputs": [
        {
          "output_type": "execute_result",
          "data": {
            "text/plain": [
              "LinearRegression(copy_X=True, fit_intercept=True, n_jobs=None, normalize=False)"
            ]
          },
          "metadata": {
            "tags": []
          },
          "execution_count": 43
        }
      ]
    },
    {
      "cell_type": "code",
      "metadata": {
        "colab": {
          "base_uri": "https://localhost:8080/"
        },
        "id": "QXhOB4qwmk9z",
        "outputId": "3fca2c97-32e9-4c81-e5b7-e91fd69bca05"
      },
      "source": [
        "clf.predict(X_train)"
      ],
      "execution_count": 44,
      "outputs": [
        {
          "output_type": "execute_result",
          "data": {
            "text/plain": [
              "array([ 44.93554688,  31.62695312,  16.51367188,  16.51367188,\n",
              "        16.51367188,  30.11523438,  14.94726562,   4.93554688,\n",
              "        14.93164062,  60.05664062,  15.04882812,  60.00976562,\n",
              "        19.88085938,  45.00195312,  89.99804688,  59.97070312,\n",
              "        44.89648438, 239.98242188,   7.45019531,   7.45019531,\n",
              "        12.64648438,  12.64648438,  19.97851562,   7.59179688,\n",
              "         7.59179688,  19.95507812,  20.06054688,  17.52539062,\n",
              "        17.52539062,  20.06054688,  10.11523438,  17.54101562,\n",
              "        17.54101562,  10.18554688,  20.17773438,  25.05664062,\n",
              "        25.05664062,  12.59960938,  12.59960938,  17.44335938,\n",
              "        17.44335938,  10.06054688,  24.92285156,  24.92285156,\n",
              "        12.53710938,  12.53710938,  10.04492188,  31.62695312,\n",
              "        31.62695312,  89.93945312,  37.27929688,  37.27929688,\n",
              "        60.02539062,  75.01464844])"
            ]
          },
          "metadata": {
            "tags": []
          },
          "execution_count": 44
        }
      ]
    },
    {
      "cell_type": "code",
      "metadata": {
        "colab": {
          "base_uri": "https://localhost:8080/"
        },
        "id": "Qqz-ZSyOmnjL",
        "outputId": "5ca124fa-c071-42ef-bc6d-606af8a2cadc"
      },
      "source": [
        "clf.score(X_train,Y_train)"
      ],
      "execution_count": 45,
      "outputs": [
        {
          "output_type": "execute_result",
          "data": {
            "text/plain": [
              "0.9903959331825286"
            ]
          },
          "metadata": {
            "tags": []
          },
          "execution_count": 45
        }
      ]
    },
    {
      "cell_type": "code",
      "metadata": {
        "id": "-wcuwpEQrwmA"
      },
      "source": [
        "filename = 'finalized_model.sav'\r\n",
        "pickle.dump(clf, open(filename, 'wb'))"
      ],
      "execution_count": 46,
      "outputs": []
    },
    {
      "cell_type": "markdown",
      "metadata": {
        "id": "lyHwtHza8nDu"
      },
      "source": [
        "# Testing Session"
      ]
    },
    {
      "cell_type": "code",
      "metadata": {
        "colab": {
          "base_uri": "https://localhost:8080/",
          "height": 80
        },
        "id": "9wRAuAej6g_9",
        "outputId": "3bae3f1b-cb87-4716-99a5-a030c24e538a"
      },
      "source": [
        "test_df=pd.DataFrame(columns=df.columns)\r\n",
        "to_append=[77,'กินข้าวตอนเที่ยง',0,0,0,0]\r\n",
        "test_df.loc[len(test_df)]=to_append\r\n",
        "test_df"
      ],
      "execution_count": 47,
      "outputs": [
        {
          "output_type": "execute_result",
          "data": {
            "text/html": [
              "<div>\n",
              "<style scoped>\n",
              "    .dataframe tbody tr th:only-of-type {\n",
              "        vertical-align: middle;\n",
              "    }\n",
              "\n",
              "    .dataframe tbody tr th {\n",
              "        vertical-align: top;\n",
              "    }\n",
              "\n",
              "    .dataframe thead th {\n",
              "        text-align: right;\n",
              "    }\n",
              "</style>\n",
              "<table border=\"1\" class=\"dataframe\">\n",
              "  <thead>\n",
              "    <tr style=\"text-align: right;\">\n",
              "      <th></th>\n",
              "      <th>activity_id</th>\n",
              "      <th>activity_name</th>\n",
              "      <th>activity_time</th>\n",
              "      <th>processed</th>\n",
              "      <th>wc</th>\n",
              "      <th>uwc</th>\n",
              "    </tr>\n",
              "  </thead>\n",
              "  <tbody>\n",
              "    <tr>\n",
              "      <th>0</th>\n",
              "      <td>77</td>\n",
              "      <td>กินข้าวตอนเที่ยง</td>\n",
              "      <td>0</td>\n",
              "      <td>0</td>\n",
              "      <td>0</td>\n",
              "      <td>0</td>\n",
              "    </tr>\n",
              "  </tbody>\n",
              "</table>\n",
              "</div>"
            ],
            "text/plain": [
              "  activity_id     activity_name activity_time processed wc uwc\n",
              "0          77  กินข้าวตอนเที่ยง             0         0  0   0"
            ]
          },
          "metadata": {
            "tags": []
          },
          "execution_count": 47
        }
      ]
    },
    {
      "cell_type": "code",
      "metadata": {
        "colab": {
          "base_uri": "https://localhost:8080/",
          "height": 80
        },
        "id": "CC8rEYE96py2",
        "outputId": "229cea1e-0830-41f7-c06f-309299b638e9"
      },
      "source": [
        "test_df['processed']=test_df['activity_name'].map(lambda x: \"|\".join(process_thai(x)))\r\n",
        "test_df[\"wc\"] = test_df.processed.map(lambda x: len(x.split(\"|\")))\r\n",
        "test_df[\"uwc\"] = test_df.processed.map(lambda x: len(set(x.split(\"|\"))))\r\n",
        "test_df"
      ],
      "execution_count": 48,
      "outputs": [
        {
          "output_type": "execute_result",
          "data": {
            "text/html": [
              "<div>\n",
              "<style scoped>\n",
              "    .dataframe tbody tr th:only-of-type {\n",
              "        vertical-align: middle;\n",
              "    }\n",
              "\n",
              "    .dataframe tbody tr th {\n",
              "        vertical-align: top;\n",
              "    }\n",
              "\n",
              "    .dataframe thead th {\n",
              "        text-align: right;\n",
              "    }\n",
              "</style>\n",
              "<table border=\"1\" class=\"dataframe\">\n",
              "  <thead>\n",
              "    <tr style=\"text-align: right;\">\n",
              "      <th></th>\n",
              "      <th>activity_id</th>\n",
              "      <th>activity_name</th>\n",
              "      <th>activity_time</th>\n",
              "      <th>processed</th>\n",
              "      <th>wc</th>\n",
              "      <th>uwc</th>\n",
              "    </tr>\n",
              "  </thead>\n",
              "  <tbody>\n",
              "    <tr>\n",
              "      <th>0</th>\n",
              "      <td>77</td>\n",
              "      <td>กินข้าวตอนเที่ยง</td>\n",
              "      <td>0</td>\n",
              "      <td>กินข้าว|ตอนเที่ยง</td>\n",
              "      <td>2</td>\n",
              "      <td>2</td>\n",
              "    </tr>\n",
              "  </tbody>\n",
              "</table>\n",
              "</div>"
            ],
            "text/plain": [
              "  activity_id     activity_name activity_time          processed  wc  uwc\n",
              "0          77  กินข้าวตอนเที่ยง             0  กินข้าว|ตอนเที่ยง   2    2"
            ]
          },
          "metadata": {
            "tags": []
          },
          "execution_count": 48
        }
      ]
    },
    {
      "cell_type": "code",
      "metadata": {
        "id": "glm37Qnz7ZdV"
      },
      "source": [
        "text_test=tfidf_fit.transform(test_df['activity_name'])\r\n",
        "num_test = scaler_fit.transform(test_df[['wc','uwc']])"
      ],
      "execution_count": 49,
      "outputs": []
    },
    {
      "cell_type": "code",
      "metadata": {
        "colab": {
          "base_uri": "https://localhost:8080/"
        },
        "id": "LiTAYtWh7oQ0",
        "outputId": "97d7f7c9-a9ba-496c-aa7c-3a3928dd2391"
      },
      "source": [
        "X_test = np.concatenate([num_test,text_test.toarray()],axis=1)\r\n",
        "X_test"
      ],
      "execution_count": 50,
      "outputs": [
        {
          "output_type": "execute_result",
          "data": {
            "text/plain": [
              "array([[-0.55738641, -0.55738641,  0.        ,  0.        ,  0.        ,\n",
              "         0.        ,  0.        ,  0.        ,  0.        ,  0.        ,\n",
              "         0.        ,  0.        ,  0.        ,  0.        ,  0.        ,\n",
              "         0.        ,  0.        ,  0.        ,  0.        ,  1.        ,\n",
              "         0.        ,  0.        ,  0.        ,  0.        ,  0.        ,\n",
              "         0.        ,  0.        ,  0.        ,  0.        ,  0.        ,\n",
              "         0.        ,  0.        ,  0.        ,  0.        ,  0.        ,\n",
              "         0.        ,  0.        ,  0.        ,  0.        ,  0.        ,\n",
              "         0.        ,  0.        ,  0.        ,  0.        ,  0.        ,\n",
              "         0.        ,  0.        ,  0.        ,  0.        ,  0.        ,\n",
              "         0.        ,  0.        ,  0.        ,  0.        ,  0.        ,\n",
              "         0.        ,  0.        ,  0.        ,  0.        ,  0.        ,\n",
              "         0.        ,  0.        ,  0.        ,  0.        ,  0.        ,\n",
              "         0.        ,  0.        ,  0.        ,  0.        ,  0.        ,\n",
              "         0.        ,  0.        ,  0.        ,  0.        ,  0.        ,\n",
              "         0.        ,  0.        ,  0.        ,  0.        ,  0.        ,\n",
              "         0.        ,  0.        ,  0.        ,  0.        ,  0.        ,\n",
              "         0.        ,  0.        ,  0.        ,  0.        ,  0.        ,\n",
              "         0.        ,  0.        ,  0.        ,  0.        ,  0.        ,\n",
              "         0.        ,  0.        ,  0.        ,  0.        ,  0.        ,\n",
              "         0.        ,  0.        ,  0.        ,  0.        ,  0.        ,\n",
              "         0.        ,  0.        ,  0.        ,  0.        ,  0.        ,\n",
              "         0.        ,  0.        ,  0.        ,  0.        ,  0.        ,\n",
              "         0.        ,  0.        ,  0.        ,  0.        ,  0.        ,\n",
              "         0.        ,  0.        ,  0.        ,  0.        ,  0.        ,\n",
              "         0.        ,  0.        ,  0.        ,  0.        ,  0.        ,\n",
              "         0.        ,  0.        ,  0.        ,  0.        ,  0.        ,\n",
              "         0.        ,  0.        ,  0.        ,  0.        ,  0.        ,\n",
              "         0.        ,  0.        ,  0.        ,  0.        ,  0.        ,\n",
              "         0.        ,  0.        ,  0.        ,  0.        ,  0.        ,\n",
              "         0.        ,  0.        ,  0.        ,  0.        ,  0.        ,\n",
              "         0.        ,  0.        ,  0.        ,  0.        ]])"
            ]
          },
          "metadata": {
            "tags": []
          },
          "execution_count": 50
        }
      ]
    },
    {
      "cell_type": "code",
      "metadata": {
        "colab": {
          "base_uri": "https://localhost:8080/"
        },
        "id": "6kfCo3Y48CLm",
        "outputId": "9a552021-fe5a-4105-9c31-5e927e728daf"
      },
      "source": [
        "clf.predict(X_test)"
      ],
      "execution_count": 51,
      "outputs": [
        {
          "output_type": "execute_result",
          "data": {
            "text/plain": [
              "array([-4.73446775e+11])"
            ]
          },
          "metadata": {
            "tags": []
          },
          "execution_count": 51
        }
      ]
    },
    {
      "cell_type": "code",
      "metadata": {
        "id": "h3JIhsiT8PVK"
      },
      "source": [
        ""
      ],
      "execution_count": 51,
      "outputs": []
    }
  ]
}